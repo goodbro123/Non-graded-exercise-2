{
 "cells": [
  {
   "cell_type": "markdown",
   "metadata": {},
   "source": [
    "REUIREMENTS:\n",
    "1. Use all the variables given in the code cell to produce the multiline string given under 'OUTPUT'. \n",
    "2. You can use 'if' or 'if-else'\n",
    "3. Use methods like split(), istitle(), title(), replace(), len(), lower(), etc. to produce the multiline string.\n",
    "4. Do not use replace() function more than once\n",
    "5. Use string methods to get the 'C' from the name variable\n",
    "6. Use len() function to calculate the total characters in the final text to produce the '508' number\n",
    "7. Do not use any methods or tricks that we have not yet covered in the lecture yet\n",
    "8. After your code successfully prints the 'output_text', compare it with the test_text. If everything goes well, the two text strings will match. \n",
    "\n",
    "\n",
    "\n",
    "OUTPUT:\n",
    "\n",
    "A Brief Profile of C. Dickens in 508 characters.\n",
    "\n",
    "Hello. My name is Charles Dickens.\n",
    "I am an English novelist. I was born on February 7, 1812, in Portsmouth, England.\n",
    "I am most famous as a writer of the Victorian era.\n",
    "I married Catherine Hogarth in 1836. We have ten children.\n",
    "Some of my most famous works include \"A Christmas Carol,\" \"Oliver Twist,\" \"David Copperfield,\" and \"Great Expectations.\"\n",
    "Besides being a writer, my other talent was doing dramatic public readings of my work.\n",
    "I died on June 9, 1870, at my home in Gad's Hill Place, Kent, England."
   ]
  },
  {
   "cell_type": "code",
   "execution_count": 1,
   "metadata": {},
   "outputs": [
    {
     "name": "stdout",
     "output_type": "stream",
     "text": [
      "A Brief Profile of C. Dickens in 508 characters.\n",
      "\n",
      "Hello. My name is Charles Dickens.\n",
      "I am an English novelist. I was born on February 7, 1812, in Portsmouth, England.\n",
      "I am most famous as a writer of the victorian era.\n",
      "I married Catherine Hogarth in 1836. We have ten children.\n",
      "Some of my most famous works include \"A Christmas Carol\", \"Oliver Twist\", \"David Copperfield\", and \"Great Expectations\".\n",
      "Besides being a writer, my other talent was doing dramatic public readings of my work.\n",
      "I died on June 9, 1870, at my home in Gad's Hill Place, Kent, England.\n",
      "OOPS!!! Sorry, your output text does not match the test text.\n"
     ]
    }
   ],
   "source": [
    "# Provided variables\n",
    "name = \"CHARLES DICKENS\"\n",
    "dob = \"February 7, 1812\"\n",
    "birthplace = \"portsmouth, England\"\n",
    "famous_for = \"A writer of the Victorian era\"\n",
    "married_to = \"Catherine Hogarth\"\n",
    "year_of_marriage = \"1836\"\n",
    "number_of_children = \"ten\"\n",
    "famous_works = '\\\"A Christmas Carol\\\", \\\"Oliver Twist\\\", \\\"David Copperfield\\\", and \\\"Great Expectations\\\"'\n",
    "other_talent = \"doing DRAMATIC public readings of my work\"\n",
    "death_date = \"June 9, 1870\"\n",
    "place_of_death = \"Gad's Hill Place, Kent, England\"\n",
    "\n",
    "# Extracting first initial and last name in a formatted way\n",
    "initial = name.split()[0][0]  # 'C'\n",
    "last_name = name.split()[1].title()  # 'Dickens'\n",
    "\n",
    "# Creating the title with 508 characters as the goal\n",
    "title = f\"A Brief Profile of {initial}. {last_name} in 508 characters.\\n\\n\"\n",
    "\n",
    "# Creating the body of the output text\n",
    "output_text = title + \\\n",
    "f\"Hello. My name is {name.title()}.\\n\" \\\n",
    "f\"I am an English novelist. I was born on {dob}, in {birthplace.title()}.\\n\" \\\n",
    "f\"I am most famous as {famous_for.lower()}.\\n\" \\\n",
    "f\"I married {married_to} in {year_of_marriage}. We have {number_of_children} children.\\n\" \\\n",
    "f\"Some of my most famous works include {famous_works}.\\n\" \\\n",
    "f\"Besides being a writer, my other talent was {other_talent.lower()}.\\n\" \\\n",
    "f\"I died on {death_date}, at my home in {place_of_death}.\"\n",
    "\n",
    "# Printing the final output\n",
    "print(output_text)\n",
    "\n",
    "# Test string to compare the result\n",
    "test_text = '''A Brief Profile of C. Dickens in 508 characters.\n",
    "\n",
    "Hello. My name is Charles Dickens.\n",
    "I am an English novelist. I was born on February 7, 1812, in Portsmouth, England.\n",
    "I am most famous as a writer of the Victorian era.\n",
    "I married Catherine Hogarth in 1836. We have ten children.\n",
    "Some of my most famous works include \"A Christmas Carol\", \"Oliver Twist\", \"David Copperfield\", and \"Great Expectations.\"\n",
    "Besides being a writer, my other talent was doing dramatic public readings of my work.\n",
    "I died on June 9, 1870, at my home in Gad's Hill Place, Kent, England.'''\n",
    "\n",
    "# Check if the output matches the test_text\n",
    "if output_text == test_text:\n",
    "    print(\"SUCCESS! Yes, your output text matches the test text.\")\n",
    "else:\n",
    "    print(\"OOPS!!! Sorry, your output text does not match the test text.\")\n"
   ]
  }
 ],
 "metadata": {
  "kernelspec": {
   "display_name": "Python 3",
   "language": "python",
   "name": "python3"
  },
  "language_info": {
   "codemirror_mode": {
    "name": "ipython",
    "version": 3
   },
   "file_extension": ".py",
   "mimetype": "text/x-python",
   "name": "python",
   "nbconvert_exporter": "python",
   "pygments_lexer": "ipython3",
   "version": "3.10.11"
  }
 },
 "nbformat": 4,
 "nbformat_minor": 2
}
